{
  "cells": [
    {
      "cell_type": "code",
      "execution_count": 1,
      "metadata": {},
      "outputs": [],
      "source": [
        "import asyncio\n",
        "import time\n",
        "import cv2\n",
        "import nats\n",
        "import numpy as np\n",
        "from nats.aio.msg import Msg\n",
        "import nest_asyncio\n",
        "import random\n",
        "from asyncio import CancelledError\n",
        "\n",
        "from project.generated.project.common.proto.Inference_pb2 import InferenceList\n",
        "from project.common.debug import profiler\n",
        "from project.common.config_class.profiler import ProfilerConfig\n",
        "from project.generated.project.common.proto.Image_pb2 import ImageMessage\n",
        "from project.generated.project.common.proto.Inference_pb2 import Inference\n",
        "\n",
        "nest_asyncio.apply()"
      ]
    },
    {
      "cell_type": "code",
      "execution_count": 2,
      "metadata": {},
      "outputs": [
        {
          "name": "stderr",
          "output_type": "stream",
          "text": [
            "2024-11-18 14:59:56.830 Python[8130:69524] WARNING: AVCaptureDeviceTypeExternal is deprecated for Continuity Cameras. Please use AVCaptureDeviceTypeContinuityCamera and add NSCameraUseContinuityCameraDeviceType to your Info.plist.\n"
          ]
        }
      ],
      "source": [
        "cap = cv2.VideoCapture(0)\n",
        "nt = await nats.connect(\"nats://localhost:4222\")\n",
        "\n",
        "image = None\n",
        "is_done = False\n",
        "\n",
        "\n",
        "async def on_message(msg: Msg):\n",
        "    \"\"\"\n",
        "    Callback for handling messages received on the `recognition/image_output` topic.\n",
        "    \"\"\"\n",
        "    global image\n",
        "    global is_done\n",
        "    try:\n",
        "        if image is None:\n",
        "            return\n",
        "\n",
        "        # Save the image\n",
        "        cv2.imwrite(\"right.jpg\", image)\n",
        "\n",
        "        # Write the data to a file\n",
        "        with open(\"right_pos.txt\", \"wb\") as file:\n",
        "            file.write(msg.data)\n",
        "\n",
        "        is_done = True\n",
        "    except Exception as e:\n",
        "        print(f\"Error in on_message: {e}\")\n",
        "\n",
        "\n",
        "# Subscribe to the topic\n",
        "await nt.subscribe(\"recognition/image_output\", cb=on_message)\n",
        "\n",
        "# Main loop\n",
        "i = 0\n",
        "while not is_done:\n",
        "    i += 1\n",
        "    if i % 10 != 0:\n",
        "        await asyncio.sleep(0.1)  # Prevent busy-waiting\n",
        "        continue\n",
        "\n",
        "    ret, frame = cap.read()\n",
        "    if not ret:\n",
        "        print(\"Failed to capture frame. Exiting...\")\n",
        "        break\n",
        "\n",
        "    image = frame\n",
        "    _, compressed_image = cv2.imencode(\".jpg\", frame)\n",
        "\n",
        "    # Create a unique image ID\n",
        "    image_id = random.randint(0, 1000000)\n",
        "\n",
        "    # Prepare and send the message\n",
        "    msg = ImageMessage(\n",
        "        image=compressed_image.tobytes(),\n",
        "        camera_name=\"camera0\",\n",
        "        is_gray=False,\n",
        "        id=image_id,\n",
        "        height=frame.shape[0],\n",
        "        width=frame.shape[1],\n",
        "        timestamp=int(time.time() * 1000),\n",
        "    )\n",
        "\n",
        "    await nt.publish(\"recognition/image_input\", msg.SerializeToString())\n",
        "    await nt.flush()\n",
        "\n",
        "# Release resources\n",
        "cap.release()\n",
        "await nt.close()"
      ]
    }
  ],
  "metadata": {
    "kernelspec": {
      "display_name": ".venv",
      "language": "python",
      "name": "python3"
    },
    "language_info": {
      "codemirror_mode": {
        "name": "ipython",
        "version": 3
      },
      "file_extension": ".py",
      "mimetype": "text/x-python",
      "name": "python",
      "nbconvert_exporter": "python",
      "pygments_lexer": "ipython3",
      "version": "3.12.5"
    }
  },
  "nbformat": 4,
  "nbformat_minor": 2
}
